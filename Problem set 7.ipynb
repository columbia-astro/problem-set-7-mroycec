{
 "cells": [
  {
   "cell_type": "code",
   "execution_count": 23,
   "metadata": {
    "collapsed": false
   },
   "outputs": [],
   "source": [
    "#Problem 1\n",
    "\n",
    "%matplotlib inline\n",
    "\n",
    "import kplr\n",
    "client = kplr.API()\n",
    "koi = client.koi(97.01) # Find the target KOI.\n",
    "lcs = koi.get_light_curves(short_cadence=False) # Get list of datasets.\n",
    "f = lcs[0].open() # open the first light-curve dataset\n",
    "hdu_data = f[1].data\n",
    "time = hdu_data[\"time\"]  # get the time of each observation\n",
    "flux = hdu_data[\"sap_flux\"] # get the flux\n",
    "flux_err = hdu_data[\"sap_flux_err\"] # get the error in the flux\n",
    "f.close()\n",
    "\n",
    "#Extract the data in the time range\n",
    "\n",
    "Time = []\n",
    "Flux = []\n",
    "Flux_err = []\n",
    "\n",
    "for i in range(0,len(time)):\n",
    "    if 124 < time[i] < 125:\n",
    "        Time.append(time[i])\n",
    "        Flux.append(flux[i])\n",
    "        Flux_err.append(flux_err[i])\n",
    "\n",
    "#Find average extracted flux values\n",
    "#Exclude the transit\n",
    "        \n",
    "import math\n",
    "\n",
    "def two_sigma_clipper(F):\n",
    "    F_bar_prime = sum(F)/len(F)\n",
    "    sigma_prime = (sum((F-F_bar_prime)**2)/len(F))**0.5\n",
    "    sum_excluding_transit = 0\n",
    "    n = 0\n",
    "    for i in F:\n",
    "        if math.fabs(i-F_bar_prime)/sigma_prime > 2:\n",
    "            F.remove(i)\n",
    "        else: \n",
    "            sum_excluding_transit += i\n",
    "            n += 1\n",
    "    F_bar = sum_excluding_transit/n\n",
    "    sigma = (sum((F-F_bar)**2)/len(F))**0.5\n",
    "    return F, F_bar, sigma\n",
    "\n",
    "#Repeat this five times\n",
    "    \n",
    "F = Flux[:]      \n",
    "for i in range(0,6):\n",
    "    F, F_bar, sigma = two_sigma_clipper(F)\n",
    "    i += 1\n",
    "\n",
    "#Normalize stellar flux\n",
    "    \n",
    "normalized_flux = Flux/F_bar\n",
    "normalized_flux_err = Flux_err/F_bar\n",
    "\n",
    "#Use the ratio of obscured \n",
    "#to unobscured flux computed in problem set #2.\n",
    "\n",
    "import scipy.integrate as integrate\n",
    "\n",
    "def mu(r):\n",
    "    return (1 - r**2)**(0.5)\n",
    "\n",
    "def I(r):\n",
    "    return 1 - (1 - mu(r)**(0.5))\n",
    "\n",
    "#define the piecewise function d(p,r,z)\n",
    "    \n",
    "def d(p,r,z):\n",
    "    if r >= z + p or r <= z - p:\n",
    "        d = 0\n",
    "    elif r + z <= p:\n",
    "        d = 1\n",
    "    else: \n",
    "        d = ((math.pi)**(-1))*math.acos((z**2 - p**2 + r**2)/(2*z*r))\n",
    "    return d\n",
    "\n",
    "def top(r,p,Z):\n",
    "    return I(r)*(1-d(p,r,Z))*2*r\n",
    "\n",
    "def bottom(r):\n",
    "    return I(r)*2*r\n",
    "\n",
    "def F(t_i,p,tau,t_0):\n",
    "    Z = math.fabs((t_i-t_0)/tau)\n",
    "    total_top = integrate.quad(top, 0, 1, args=(p,Z))\n",
    "    total_bottom = integrate.quad(bottom, 0, 1)\n",
    "    top_integral, error = (total_top)\n",
    "    bottom_integral, error = (total_bottom)\n",
    "    return top_integral/bottom_integral\n",
    "\n",
    "p = 0.0775\n",
    "tau = 0.1\n",
    "t_0 = 124.51\n",
    "\n",
    "chi_squared = 0\n",
    "F_list = []\n",
    "for i in range(0, len(Time)):\n",
    "    chi_squared += \\\n",
    "    ((normalized_flux[i]-F(Time[i],p,tau,t_0))/normalized_flux_err[i])**2\n",
    "    F_list.append(F(Time[i],p,tau,t_0))"
   ]
  },
  {
   "cell_type": "code",
   "execution_count": 24,
   "metadata": {
    "collapsed": false
   },
   "outputs": [
    {
     "name": "stdout",
     "output_type": "stream",
     "text": [
      "By eye the fit looks pretty good\n",
      "p = 0.999998293669\n",
      "chi squared = 3.41266450878e-06\n",
      "Since the p-value is close to one, this is a pretty good fit\n"
     ]
    },
    {
     "data": {
      "image/png": "[encoded data removed]",
      "text/plain": [
       "<matplotlib.figure.Figure at 0x112bb36a0>"
      ]
     },
     "metadata": {},
     "output_type": "display_data"
    }
   ],
   "source": [
    "#Problem 2\n",
    "\n",
    "%matplotlib inline\n",
    "\n",
    "from pylab import *\n",
    "from scipy import stats\n",
    "\n",
    "plot(Time,normalized_flux)\n",
    "plot(Time,F_list)\n",
    "xlabel('Time in seconds')\n",
    "ylabel('Flux')\n",
    "\n",
    "print('By eye the fit looks pretty good')\n",
    "\n",
    "#Compute how likely the value of chi_squared is\n",
    "#Errors have normal distribution\n",
    "\n",
    "M = 3\n",
    "N = len(Time)\n",
    "nu = N - M\n",
    "chisq, P = stats.chisquare(F_list, normalized_flux, nu)\n",
    "print('p = '+str(P))\n",
    "print('chi squared = '+str(chisq))\n",
    "print('Since the p-value is close to one, this is a pretty good fit')"
   ]
  },
  {
   "cell_type": "code",
   "execution_count": 33,
   "metadata": {
    "collapsed": false
   },
   "outputs": [
    {
     "name": "stdout",
     "output_type": "stream",
     "text": [
      "p = 0.999999123527\n"
     ]
    },
    {
     "data": {
      "image/png": "[encoded data removed]",
      "text/plain": [
       "<matplotlib.figure.Figure at 0x112bce7f0>"
      ]
     },
     "metadata": {},
     "output_type": "display_data"
    }
   ],
   "source": [
    "#Problem 3\n",
    "\n",
    "%matplotlib inline\n",
    "\n",
    "#Find the minimum in chi_squared and report this best fitting τ value\n",
    "\n",
    "tol = 10**(-10)\n",
    "\n",
    "def chi_squared(x):\n",
    "    F_list = []\n",
    "    for i in range(0, len(Time)):\n",
    "        F_list.append(F(Time[i],p,x,t_0))\n",
    "    chisq, P = stats.chisquare(F_list, normalized_flux)\n",
    "    return chisq\n",
    "\n",
    "def chi_squared_prime(tau):\n",
    "    return (chi_squared(tau+tol) - chi_squared(tau-tol))/(2*tol)\n",
    "\n",
    "a = 0.08\n",
    "b = 0.13\n",
    "\n",
    "while b - a > tol:\n",
    "    m = (a + b)/2\n",
    "    if sign(chi_squared_prime(a)) == sign(chi_squared_prime(m)):\n",
    "        a = m\n",
    "    else:\n",
    "        b = m\n",
    "\n",
    "m = (a + b)/2\n",
    "A_list = []\n",
    "for i in range(0, len(Time)):\n",
    "    A_list.append(F(Time[i],p,m,t_0))\n",
    "chisq, P = stats.chisquare(A_list, normalized_flux, nu)\n",
    "\n",
    "#plot the result and determine the corresponding p-value.\n",
    "\n",
    "plot(Time,normalized_flux)\n",
    "plot(Time,A_list)\n",
    "xlabel('Time in seconds')\n",
    "ylabel('Flux')\n",
    "\n",
    "print('p = '+str(P))"
   ]
  },
  {
   "cell_type": "code",
   "execution_count": null,
   "metadata": {
    "collapsed": true
   },
   "outputs": [],
   "source": []
  },
  {
   "cell_type": "code",
   "execution_count": null,
   "metadata": {
    "collapsed": true
   },
   "outputs": [],
   "source": []
  }
 ],
 "metadata": {
  "kernelspec": {
   "display_name": "Python 3",
   "language": "python",
   "name": "python3"
  },
  "language_info": {
   "codemirror_mode": {
    "name": "ipython",
    "version": 3
   },
   "file_extension": ".py",
   "mimetype": "text/x-python",
   "name": "python",
   "nbconvert_exporter": "python",
   "pygments_lexer": "ipython3",
   "version": "3.5.3"
  }
 },
 "nbformat": 4,
 "nbformat_minor": 0
}
